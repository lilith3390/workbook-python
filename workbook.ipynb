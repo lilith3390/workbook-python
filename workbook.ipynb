{
 "cells": [
  {
   "cell_type": "markdown",
   "id": "f3002fe2-e666-4f1c-a7b8-da09579ed2f9",
   "metadata": {},
   "source": [
    "# "
   ]
  },
  {
   "cell_type": "markdown",
   "id": "6930d0c7-2093-490a-ac63-23e23a67c560",
   "metadata": {},
   "source": []
  },
  {
   "cell_type": "code",
   "execution_count": 2,
   "id": "81ef6450-45f7-4ac4-a2b1-e646bbd45980",
   "metadata": {},
   "outputs": [
    {
     "name": "stdout",
     "output_type": "stream",
     "text": [
      "Hiii Lilit Hakobyan\n"
     ]
    }
   ],
   "source": [
    "###  EX 2\n",
    "\n",
    "name=input(\"Please enter your name \")\n",
    "lastName=input(\"Please enter your Last name\")\n",
    "print(\"Hiii\", name, lastName)"
   ]
  },
  {
   "cell_type": "code",
   "execution_count": 3,
   "id": "4d9967c3-1c9a-4e58-ae7a-198825f0f2c0",
   "metadata": {},
   "outputs": [
    {
     "name": "stdout",
     "output_type": "stream",
     "text": [
      "The area of the room is :  72.0 m²\n"
     ]
    }
   ],
   "source": [
    "###  EX 3\n",
    "\n",
    "width=float(input(\"width : \"))\n",
    "length=float(input(\"Length : \"))\n",
    "area=width*length\n",
    "print(\"The area of the room is : \", area, \"m²\")"
   ]
  },
  {
   "cell_type": "code",
   "execution_count": 4,
   "id": "b49e6609-9436-4fa2-99de-85e09ea47481",
   "metadata": {},
   "outputs": [
    {
     "name": "stdout",
     "output_type": "stream",
     "text": [
      "the total refund is :  2.65 $\n"
     ]
    }
   ],
   "source": [
    "## EX5\n",
    "nbSmall=int(input(\"<=1L :\"))\n",
    "nbBig=int(input(\">1L : \"))\n",
    "total=nbSmall*0.1+nbBig*0.25\n",
    "print(\"the total refund is : \", total, \"$\")                  "
   ]
  },
  {
   "cell_type": "code",
   "execution_count": 11,
   "id": "9c410829-0a36-43a8-8d6b-7f493c605037",
   "metadata": {},
   "outputs": [
    {
     "name": "stdout",
     "output_type": "stream",
     "text": [
      " Tax:  12.0 \n",
      " Tip :  10.8 \n",
      " Total :  82.8\n"
     ]
    }
   ],
   "source": [
    "## EX 6\n",
    "cost=float(input(\"Please enter the cost of the meal\"))\n",
    "tax=cost*0.2 \n",
    "tip=cost*0.18\n",
    "total=cost+tax+tip\n",
    "print(\" Tax: \",tax,\"\\n\",\"Tip : \",round(tip,2),\"\\n\",\"Total : \", total)"
   ]
  },
  {
   "cell_type": "code",
   "execution_count": 12,
   "id": "0349cfdb-cddc-4995-807a-bbc9673a5a66",
   "metadata": {},
   "outputs": [
    {
     "name": "stdout",
     "output_type": "stream",
     "text": [
      "The sum from 1 to  6  is 21.0\n"
     ]
    }
   ],
   "source": [
    "### EX 7\n",
    "n=int(input(\"Enter positive integer\"))\n",
    "sum=n*(n+1)/2\n",
    "print(\"The sum from 1 to \",n,\" is\", sum)"
   ]
  },
  {
   "cell_type": "code",
   "execution_count": 15,
   "id": "f8be8516-4fe8-4cbd-aa1f-3a24405d11fc",
   "metadata": {},
   "outputs": [
    {
     "name": "stdout",
     "output_type": "stream",
     "text": [
      "The total weight for 10 widgets and 5 gizmos is :  1310 g\n"
     ]
    }
   ],
   "source": [
    "##EX 8\n",
    "nbW=int(input(\"The number of widgets\"))\n",
    "nbG=int(input(\"The number of gizmos\"))\n",
    "totalWeight=nbW*75+nbG*112\n",
    "print(f\"The total weight for {nbW} widgets and {nbG} gizmos is : \", totalWeight,\"g\")"
   ]
  },
  {
   "cell_type": "code",
   "execution_count": 21,
   "id": "ec8cd6ce-c031-46a3-a079-981a21239343",
   "metadata": {},
   "outputs": [
    {
     "name": "stdout",
     "output_type": "stream",
     "text": [
      "1st year : 2080.0 2nd year : 2163.20 3rd year : 2249.73\n"
     ]
    }
   ],
   "source": [
    "## EX 9\n",
    "deposit=float(input(\"deposit :\"))\n",
    "s1=deposit*1.04\n",
    "s2=s1*1.04\n",
    "s3=s2*1.04\n",
    "print(\"1st year :\", s1, \"2nd year :\", f\"{s2:.2f}\", \"3rd year :\", f\"{s3:.2f}\")"
   ]
  },
  {
   "cell_type": "code",
   "execution_count": 22,
   "id": "de910ab1-1830-40d4-9fcb-d2ed8926b3d0",
   "metadata": {},
   "outputs": [
    {
     "name": "stdout",
     "output_type": "stream",
     "text": [
      "20.0 mpg = 4704.3 L/100\n"
     ]
    }
   ],
   "source": [
    "##11\n",
    "mpg=float(input(\"Enter MPG\"))\n",
    "print(mpg, \"mpg =\", mpg*235.215,\"L/100\")\n"
   ]
  },
  {
   "cell_type": "code",
   "execution_count": 23,
   "id": "38751186-a00d-48b6-8ede-27d7ad0002f4",
   "metadata": {},
   "outputs": [
    {
     "name": "stdout",
     "output_type": "stream",
     "text": [
      "The distance between the two points is 4715.34 kilometers.\n"
     ]
    }
   ],
   "source": [
    "## 12\n",
    "import math\n",
    "lat1=float(input(\"t1\"))\n",
    "lat2=float(input(\"t2\"))\n",
    "lon1=float(input(\"g1\"))\n",
    "lon2=float(input(\"g2\"))\n",
    "\n",
    "t1 = math.radians(lat1)\n",
    "g1 = math.radians(lon1)\n",
    "t2 = math.radians(lat2)\n",
    "g2 = math.radians(lon2)\n",
    "distance = 6371.01 * math.acos(\n",
    "    math.sin(t1) * math.sin(t2) +\n",
    "    math.cos(t1) * math.cos(t2) * math.cos(g1 - g2)\n",
    ")\n",
    "print(f\"The distance between the two points is {distance:.2f} kilometers.\")\n",
    "#distance=6371.01*math.acos(math.sin(t1)*math.sin(t2)+math.cos(t1)*math.cos(g1-g2))\n",
    "#print(distance)"
   ]
  },
  {
   "cell_type": "code",
   "execution_count": 30,
   "id": "d75d4865-e803-4ff8-9fc8-2378c17a4ba4",
   "metadata": {},
   "outputs": [
    {
     "name": "stdout",
     "output_type": "stream",
     "text": [
      "5 ft 6\" height in cm : 167.64 cm\n"
     ]
    }
   ],
   "source": [
    "## EX 14\n",
    "\n",
    "foot=int(input(\"foot : \"))\n",
    "inches=int(input(\"inches : \"))\n",
    "#cm=foot*12*2.54+inches*2.54\n",
    "cm=2.54*(foot*12+inches)\n",
    "print(f\"{foot} ft {inches}\\\" height in cm : {cm:.2f} cm\")\n"
   ]
  },
  {
   "cell_type": "code",
   "execution_count": 31,
   "id": "8d11b705-b9c2-40ef-bb15-ad58e0c34041",
   "metadata": {},
   "outputs": [
    {
     "name": "stdout",
     "output_type": "stream",
     "text": [
      " Area : 50.2655\n",
      " Volume : 268.0826\n"
     ]
    }
   ],
   "source": [
    "#EX 16\n",
    "r=int(input(\"Enter the radius\"))\n",
    "area=math.pi*r**2\n",
    "volume=4/3*math.pi*r**3\n",
    "\n",
    "print(f\" Area : {area:.4f}\\n Volume : {volume:.4f}\")"
   ]
  },
  {
   "cell_type": "code",
   "execution_count": 34,
   "id": "fea92814-7f50-4ad1-9df6-cfbe208fddab",
   "metadata": {},
   "outputs": [
    {
     "name": "stdout",
     "output_type": "stream",
     "text": [
      "The are is 628.446\n"
     ]
    }
   ],
   "source": [
    "##EX 22\n",
    "import math\n",
    "s1=int(input(\"side 1 \"))\n",
    "s2=int(input(\"side 2 \"))\n",
    "s3=int(input(\"side 3 \"))\n",
    "s=s1+s2+s3\n",
    "area=math.sqrt(s*(s-s1)*(s-s2)*(s-s3))\n",
    "print(f\"The are is {area:.3f}\")\n"
   ]
  },
  {
   "cell_type": "code",
   "execution_count": 38,
   "id": "2df8b364-33bb-4338-ac4f-172beb51edd7",
   "metadata": {},
   "outputs": [
    {
     "name": "stdout",
     "output_type": "stream",
     "text": [
      "179524 seconds\n"
     ]
    }
   ],
   "source": [
    "#Ex 24\n",
    "s=int(input(\"seconds :\"))\n",
    "m=int(input(\"minutes :\"))\n",
    "h=int(input(\"hours :\"))\n",
    "d=int(input(\"days :\"))\n",
    "\n",
    "totalSeconds=s+60*m+3600*h+24*3600*d\n",
    "print(f\"{totalSeconds} seconds\")\n"
   ]
  },
  {
   "cell_type": "code",
   "execution_count": 39,
   "id": "041129a8-1c68-433f-9946-41c5fa9f1554",
   "metadata": {},
   "outputs": [
    {
     "name": "stdout",
     "output_type": "stream",
     "text": [
      " 0d:15h:49m:45s\n"
     ]
    }
   ],
   "source": [
    "##EX25\n",
    "\n",
    "seconds=int(input(\"Seconds\"))\n",
    "sDay=86400\n",
    "sHour=3600\n",
    "sMinute=60\n",
    "\n",
    "day=seconds//sDay\n",
    "seconds=seconds%sDay\n",
    "hour=seconds//sHour\n",
    "seconds=seconds%sHour\n",
    "minute=seconds//sMinute\n",
    "seconds=seconds%sMinute\n",
    "print(f\" {day}d:{hour:02d}h:{minute}m:{seconds}s\")"
   ]
  },
  {
   "cell_type": "code",
   "execution_count": 41,
   "id": "89440ac8-daa1-4dc3-926a-25a43fc554f2",
   "metadata": {},
   "outputs": [
    {
     "name": "stdout",
     "output_type": "stream",
     "text": [
      "month : 4, day : 7\n"
     ]
    }
   ],
   "source": [
    "#EX 27\n",
    "\n",
    "year=int(input(\"Year\"))\n",
    "a=year%19\n",
    "b=year//100\n",
    "c=year%100\n",
    "d=b//4\n",
    "e=b%4\n",
    "f=(b+8)//25\n",
    "g=(b-f+1)//3\n",
    "h=(19*a+b-d-g+15)%30\n",
    "i=c//4\n",
    "k=c%4\n",
    "l=(32+2*e+2*i-h-k)%7\n",
    "m=(a+11*h+22*l)//451\n",
    "month=(h+l-7*m+114)//31\n",
    "day=(h+l-7*m+114)%31\n",
    "\n",
    "print(f\"month : {month}, day : {day}\")"
   ]
  },
  {
   "cell_type": "code",
   "execution_count": 43,
   "id": "50abe985-eb26-4778-9617-118fb48a751c",
   "metadata": {},
   "outputs": [
    {
     "name": "stdout",
     "output_type": "stream",
     "text": [
      "2 5 6 9\n",
      "22\n"
     ]
    }
   ],
   "source": [
    "#ex32\n",
    "a=int(input(\"a\"))\n",
    "d1=a//1000\n",
    "a=a%1000\n",
    "d2=a//100\n",
    "a=a%100\n",
    "d3=a//10\n",
    "a=a%10\n",
    "\n",
    "digSum=d1+d2+d3+a\n",
    "print(d1, d2, d3, a)\n",
    "print(digSum)\n",
    "\n"
   ]
  },
  {
   "cell_type": "code",
   "execution_count": 46,
   "id": "418a1b05-19df-4eaa-a3cd-2de190f07543",
   "metadata": {},
   "outputs": [
    {
     "name": "stdout",
     "output_type": "stream",
     "text": [
      "5 is an odd number\n"
     ]
    }
   ],
   "source": [
    "#ex 35\n",
    "nb=int(input(\"Enter a number\"))\n",
    "res='even'\n",
    "if nb%2==1 :\n",
    "    res='odd'\n",
    "print(f\"{nb} is an {res} number\")\n"
   ]
  },
  {
   "cell_type": "code",
   "execution_count": 52,
   "id": "47bb4057-8f85-45cd-b10b-27cd53b685b7",
   "metadata": {},
   "outputs": [
    {
     "name": "stdout",
     "output_type": "stream",
     "text": [
      "For 3 years the  dog age will be  :  25\n"
     ]
    }
   ],
   "source": [
    "#ex36\n",
    "hy=int(input(\"Enter human age\"))\n",
    "\n",
    "if hy<0 :\n",
    "    print(\"Age can't be negative\")\n",
    "if hy<=2 : \n",
    "    dy=hy*10.5\n",
    "else:\n",
    "    dy=21+(hy-2)*4\n",
    "print(f\"For {hy} years the  dog age will be  : \", dy)"
   ]
  },
  {
   "cell_type": "code",
   "execution_count": 53,
   "id": "88ed3796-cd51-400c-88a2-a4e580e0566e",
   "metadata": {},
   "outputs": [
    {
     "name": "stdout",
     "output_type": "stream",
     "text": [
      "The letter is vowel\n"
     ]
    }
   ],
   "source": [
    "#ex37\n",
    "vowels=('a','e','i','o','u')\n",
    "letter=input(\"Enter a letter\")\n",
    "if letter in vowels:\n",
    "    print(\"The letter is vowel\")\n",
    "elif letter=='y':\n",
    "    print(\"sometimes y is a vowel, and sometimes y is a consonant\")\n",
    "else :\n",
    "    print(\"The letter is consonant\")"
   ]
  },
  {
   "cell_type": "code",
   "execution_count": 55,
   "id": "afd48578-087b-4ad7-b8b4-badd87ddb8da",
   "metadata": {},
   "outputs": [
    {
     "name": "stdout",
     "output_type": "stream",
     "text": [
      "31 days in july\n"
     ]
    }
   ],
   "source": [
    "#ex39\n",
    "month=input(\"Enter the name of month\")\n",
    "\n",
    "m31=('january', 'march','may', 'july', 'august','october', 'december')\n",
    "m30=('april','june', 'september', 'november')\n",
    "\n",
    "if month in m31 :\n",
    "    print(f\"31 days in {month}\")\n",
    "elif month in m30 :\n",
    "    print(f\"30 days in {month}\")\n",
    "elif month=='february' :\n",
    "    print(\"28 or 29 days\")\n",
    "else :\n",
    "    print(\"no such month\")"
   ]
  },
  {
   "cell_type": "code",
   "execution_count": 60,
   "id": "d6c7fd43-b81a-4bb2-860f-fb492bc73b6d",
   "metadata": {},
   "outputs": [
    {
     "name": "stdout",
     "output_type": "stream",
     "text": [
      "D4 293.66 hz\n"
     ]
    }
   ],
   "source": [
    "#ex 42\n",
    "name=input(\"Enter the note\")\n",
    "note=name[0]\n",
    "octave=int(name[1])\n",
    "\n",
    "hzC4=264.33\n",
    "hzD4=293.66\n",
    "hzE4=329.63\n",
    "hzF4=349.23\n",
    "hzG4=392.00\n",
    "hzA4=440.00\n",
    "hzB4=493.88\n",
    "\n",
    "match (note) : \n",
    "    case 'C':\n",
    "        hz=hzC4\n",
    "    case 'D':\n",
    "        hz=hzD4\n",
    "    case 'E' :\n",
    "        hz=hzE4\n",
    "    case 'F':\n",
    "        hz=hzF4\n",
    "    case 'G':\n",
    "        hz=hzG4\n",
    "    case 'A':\n",
    "        hz=hzA4\n",
    "    case 'B':\n",
    "        hz=hzB4\n",
    "    case _: \n",
    "        hz=\"incorrect\"\n",
    "        \n",
    "hz=hz/2**(4-octave)\n",
    "print(f\"{name} {hz} hz\")    \n",
    "\n",
    "\n"
   ]
  },
  {
   "cell_type": "code",
   "execution_count": 62,
   "id": "e6d55edc-8057-4ad8-a8fd-4edb915a8cbc",
   "metadata": {},
   "outputs": [
    {
     "name": "stdout",
     "output_type": "stream",
     "text": [
      "0°C = 32.0 °F\n",
      "10°C = 50.0 °F\n",
      "20°C = 68.0 °F\n",
      "30°C = 86.0 °F\n",
      "40°C = 104.0 °F\n",
      "50°C = 122.0 °F\n",
      "60°C = 140.0 °F\n",
      "70°C = 158.0 °F\n",
      "80°C = 176.0 °F\n",
      "90°C = 194.0 °F\n",
      "100°C = 212.0 °F\n"
     ]
    }
   ],
   "source": [
    "##EX 65\n",
    "\n",
    "for c in range(0,101,10):\n",
    "    f=32+(c*9/5)\n",
    "    print(f\"{c}°C = {f} °F\")"
   ]
  },
  {
   "cell_type": "code",
   "execution_count": 68,
   "id": "c21e6dde-8ab0-40c3-836a-84fe7bc4ceba",
   "metadata": {},
   "outputs": [
    {
     "name": "stdout",
     "output_type": "stream",
     "text": [
      "11 y\n",
      "2 y\n",
      "68 y\n",
      "the cost for all guests will be 32 $\n"
     ]
    }
   ],
   "source": [
    "## ex 69\n",
    "cost=0\n",
    "text=input(\"Enter the age of the guest\")\n",
    "while text!=\"\":\n",
    "    age=int(text)\n",
    "    print(age,'y')\n",
    "    if int(age)>=65:\n",
    "        cost=cost+18\n",
    "        #print(cost)\n",
    "    elif int(age)>=12:\n",
    "        cost=cost+23\n",
    "        #print(cost)\n",
    "    elif int(age)>2 :\n",
    "        cost=cost+14\n",
    "        #print(cost)\n",
    "    text=input(\"Enter the age of the guest\")\n",
    "\n",
    "print(f\"the cost for all guests will be {cost} $\")"
   ]
  },
  {
   "cell_type": "code",
   "execution_count": 71,
   "id": "52815203-625b-46fa-9db5-9d26d7c81f37",
   "metadata": {},
   "outputs": [
    {
     "name": "stdout",
     "output_type": "stream",
     "text": [
      "10001101 = 141\n"
     ]
    }
   ],
   "source": [
    "#EX81\n",
    "binary=input(\"Enter binary number\")\n",
    "decimal=0\n",
    "count=0\n",
    "for i in reversed(binary):\n",
    "    decimal=decimal+2**count*int(i)\n",
    "    count+=1\n",
    "    #print(count, decimal)\n",
    "print(f\"{binary} = {decimal}\")"
   ]
  },
  {
   "cell_type": "code",
   "execution_count": 72,
   "id": "4853f719-c768-4d38-922a-4648637a98e9",
   "metadata": {},
   "outputs": [
    {
     "name": "stdout",
     "output_type": "stream",
     "text": [
      "24\n",
      "99 <== Update\n",
      "52\n",
      "19\n",
      "34\n",
      "94\n",
      "15\n",
      "63\n",
      "45\n",
      "47\n",
      "64\n",
      "100 <== Update\n",
      "43\n",
      "61\n",
      "14\n",
      "89\n",
      "48\n",
      "18\n",
      "65\n",
      "82\n",
      "96\n",
      "52\n",
      "83\n",
      "16\n",
      "1\n",
      "83\n",
      "56\n",
      "41\n",
      "56\n",
      "76\n",
      "18\n",
      "62\n",
      "52\n",
      "79\n",
      "19\n",
      "95\n",
      "66\n",
      "61\n",
      "72\n",
      "3\n",
      "20\n",
      "64\n",
      "90\n",
      "17\n",
      "87\n",
      "15\n",
      "92\n",
      "61\n",
      "15\n",
      "78\n",
      "1\n",
      "76\n",
      "83\n",
      "57\n",
      "15\n",
      "28\n",
      "48\n",
      "40\n",
      "51\n",
      "25\n",
      "26\n",
      "62\n",
      "80\n",
      "70\n",
      "70\n",
      "16\n",
      "86\n",
      "50\n",
      "81\n",
      "69\n",
      "31\n",
      "90\n",
      "14\n",
      "1\n",
      "83\n",
      "32\n",
      "45\n",
      "70\n",
      "17\n",
      "26\n",
      "27\n",
      "47\n",
      "5\n",
      "11\n",
      "99\n",
      "58\n",
      "47\n",
      "24\n",
      "89\n",
      "3\n",
      "77\n",
      "71\n",
      "30\n",
      "38\n",
      "27\n",
      "8\n",
      "16\n",
      "70\n",
      "72\n",
      "3\n",
      "The maximum value found was 100\n",
      "The maximum value was updated 2 times\n"
     ]
    }
   ],
   "source": [
    "#EX 83\n",
    "import random\n",
    "\n",
    "max=random.randint(1,100)\n",
    "update=0\n",
    "for i in range(100):\n",
    "    nb=random.randint(1,100)\n",
    "    if nb>max:\n",
    "        max=nb\n",
    "        update+=1\n",
    "        print(f\"{nb} <== Update\")\n",
    "    else:\n",
    "        print(nb)\n",
    "print(\"The maximum value found was\", max)\n",
    "print(f\"The maximum value was updated {update} times\")"
   ]
  },
  {
   "cell_type": "code",
   "execution_count": 73,
   "id": "ac7c6a3f-4748-463d-9b16-bbce2b32c2d9",
   "metadata": {},
   "outputs": [
    {
     "name": "stdout",
     "output_type": "stream",
     "text": [
      "TTT (3 flips)\n",
      "HHH (3 flips)\n",
      "THTTHTTHHH (10 flips)\n",
      "HTTT (4 flips)\n",
      "TTT (3 flips)\n",
      "TTT (3 flips)\n",
      "TTT (3 flips)\n",
      "THTTT (5 flips)\n",
      "TTT (3 flips)\n",
      "THHTTHTHHTHHTHTTT (17 flips)\n",
      "On average, 5.4 flips were needed\n"
     ]
    }
   ],
   "source": [
    "#ex 84\n",
    "import random\n",
    "\n",
    "sumFlips=0\n",
    "\n",
    "for i in range(10):\n",
    "    c=\"\"\n",
    "    flips=0\n",
    "    while ('HHH' not in c) and ('TTT' not in c):\n",
    "        r=random.randint(1,2)\n",
    "        flips+=1\n",
    "        if r==1:\n",
    "            c=c+\"H\"\n",
    "        else:\n",
    "            c=c+\"T\"\n",
    "    sumFlips=sumFlips+flips  \n",
    "    print(f\"{c} ({flips} flips)\")\n",
    "print(f\"On average, {sumFlips/10} flips were needed\")"
   ]
  },
  {
   "cell_type": "code",
   "execution_count": 76,
   "id": "49dcee6e-e290-4e9c-9bb2-cdabe21bf7b7",
   "metadata": {},
   "outputs": [
    {
     "name": "stdout",
     "output_type": "stream",
     "text": [
      "[4, 3, 2, 1]\n"
     ]
    }
   ],
   "source": [
    "#### ex 110\n",
    "myList=[]\n",
    "text=input(\"Enter integers: \")\n",
    "while text!=\"0\":\n",
    "    val=int(text)\n",
    "    myList.append(val)\n",
    "    text=input(\"Enter integers: \")\n",
    "myList.reverse()\n",
    "print(myList)\n",
    "\n",
    "    "
   ]
  },
  {
   "cell_type": "code",
   "execution_count": 77,
   "id": "09aa54e3-30c8-425b-a26e-664d81090445",
   "metadata": {},
   "outputs": [
    {
     "name": "stdout",
     "output_type": "stream",
     "text": [
      "['blabla', 'salut', 'barev', 'hello']\n"
     ]
    }
   ],
   "source": [
    "#EX 113\n",
    "words=[]\n",
    "text=input(\"Type words: \")\n",
    "while text!=\"\":\n",
    "    if text not in words:\n",
    "        words.append(text)\n",
    "    text=input(\"Enter integers: \")\n",
    "print(words)\n",
    "    "
   ]
  },
  {
   "cell_type": "code",
   "execution_count": 78,
   "id": "55a99cc5-8e16-4a95-8883-7b29eb1cd7e8",
   "metadata": {},
   "outputs": [
    {
     "data": {
      "text/plain": [
       "'Lorem ipsum dolor sit amet consectetur adipiscing elit'"
      ]
     },
     "execution_count": 78,
     "metadata": {},
     "output_type": "execute_result"
    }
   ],
   "source": [
    "#ex 117\n",
    "def delPunctMarks(text):  \n",
    "    wordsList=text.split()\n",
    "    pMarks=[',', '.', '?', '!', ':', ';']\n",
    "    for i, word in enumerate(wordsList):\n",
    "        for letter in word:\n",
    "            if letter in pMarks:\n",
    "                #wordList.index('word')\n",
    "                word=word.replace(letter,'')\n",
    "                #print(word)\n",
    "                wordsList[i]=word\n",
    "    textNew=' '.join(wordsList)\n",
    "    return(textNew)\n",
    "    \n",
    "text=\"Lorem, ipsum. dolor! si?t a?met, con:sec:tetur adi:pis:cing elit,\"\n",
    "delPunctMarks(text)"
   ]
  },
  {
   "cell_type": "code",
   "execution_count": 393,
   "id": "45ddcedd-1235-487e-a80f-f49a4e18c2c3",
   "metadata": {},
   "outputs": [
    {
     "data": {
      "text/plain": [
       "11"
      ]
     },
     "execution_count": 393,
     "metadata": {},
     "output_type": "execute_result"
    }
   ],
   "source": [
    "#145\n",
    "def scrScore(word):\n",
    "    scores={\"1\":('A','E','I','L','N','O','R','S','T','U'),\n",
    "            \"2\":('D','G'),\n",
    "            \"3\":('B','C','M','P'),\n",
    "            \"4\":('F','H','V','W','Y'),\n",
    "            \"5\":('K'),\n",
    "            \"8\":('J','X'),\n",
    "            \"10\":('Q','Z')\n",
    "           }\n",
    "    score=0\n",
    "\n",
    "    for c in word:\n",
    "        for i, j in scores.items():\n",
    "    #print(i,obj)\n",
    "            for car in j:\n",
    "        #print(j)\n",
    "                if car==c:\n",
    "                    score=score+int(i)\n",
    "    return score\n",
    "\n",
    "scrScore(\"FHAD\")"
   ]
  }
 ],
 "metadata": {
  "kernelspec": {
   "display_name": "Python 3",
   "language": "python",
   "name": "python3"
  },
  "language_info": {
   "codemirror_mode": {
    "name": "ipython",
    "version": 3
   },
   "file_extension": ".py",
   "mimetype": "text/x-python",
   "name": "python",
   "nbconvert_exporter": "python",
   "pygments_lexer": "ipython3",
   "version": "3.13.0"
  }
 },
 "nbformat": 4,
 "nbformat_minor": 5
}
