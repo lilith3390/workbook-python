{
 "cells": [
  {
   "cell_type": "markdown",
   "id": "6930d0c7-2093-490a-ac63-23e23a67c560",
   "metadata": {},
   "source": []
  },
  {
   "cell_type": "code",
   "execution_count": 1,
   "id": "a960cc93-ff39-4cef-a26b-60ad49e42337",
   "metadata": {},
   "outputs": [
    {
     "name": "stdin",
     "output_type": "stream",
     "text": [
      "Enter your name:  hhhhh\n"
     ]
    }
   ],
   "source": [
    "name = input(\"Enter your name: \")"
   ]
  },
  {
   "cell_type": "code",
   "execution_count": 6,
   "id": "08be4d14-bcde-40c9-94fb-a8b42379a887",
   "metadata": {},
   "outputs": [
    {
     "name": "stdin",
     "output_type": "stream",
     "text": [
      "Cost per item?  89\n"
     ]
    }
   ],
   "source": [
    "price = float(input(\"Cost per item? \"))\n"
   ]
  },
  {
   "cell_type": "code",
   "execution_count": 13,
   "id": "5636a4e2-12e2-4eba-819f-58fade01214f",
   "metadata": {},
   "outputs": [
    {
     "name": "stdin",
     "output_type": "stream",
     "text": [
      "Your name?  lilit\n"
     ]
    },
    {
     "name": "stdout",
     "output_type": "stream",
     "text": [
      "Your name contains 5 characters\n"
     ]
    }
   ],
   "source": [
    "first=input(\"Your name? \")\n",
    "length=len(first)\n",
    "print(\"Your name contains\", length, \"characters\")"
   ]
  },
  {
   "cell_type": "code",
   "execution_count": null,
   "id": "cb26327f-59ed-4f45-8c5d-92505928147f",
   "metadata": {},
   "outputs": [],
   "source": []
  },
  {
   "cell_type": "code",
   "execution_count": 19,
   "id": "81ef6450-45f7-4ac4-a2b1-e646bbd45980",
   "metadata": {},
   "outputs": [
    {
     "name": "stdin",
     "output_type": "stream",
     "text": [
      "Please enter your name  lilit\n",
      "Please enter your Last name hhhhhhh\n"
     ]
    },
    {
     "name": "stdout",
     "output_type": "stream",
     "text": [
      "Hiii lilit hhhhhhh\n"
     ]
    }
   ],
   "source": [
    "###  EX 2\n",
    "\n",
    "name=input(\"Please enter your name \")\n",
    "lastName=input(\"Please enter your Last name\")\n",
    "print(\"Hiii\", name, lastName)"
   ]
  },
  {
   "cell_type": "code",
   "execution_count": 32,
   "id": "4d9967c3-1c9a-4e58-ae7a-198825f0f2c0",
   "metadata": {},
   "outputs": [
    {
     "name": "stdin",
     "output_type": "stream",
     "text": [
      "width :  10\n",
      "Length :  10\n"
     ]
    },
    {
     "name": "stdout",
     "output_type": "stream",
     "text": [
      "The area of the room is :  100.0 m²\n"
     ]
    }
   ],
   "source": [
    "###  EX 3\n",
    "\n",
    "width=float(input(\"width : \"))\n",
    "length=float(input(\"Length : \"))\n",
    "area=width*length\n",
    "print(\"The area of the room is : \", area, \"m²\")"
   ]
  },
  {
   "cell_type": "code",
   "execution_count": 36,
   "id": "b49e6609-9436-4fa2-99de-85e09ea47481",
   "metadata": {},
   "outputs": [
    {
     "name": "stdin",
     "output_type": "stream",
     "text": [
      "<=1L : 2\n",
      ">1L :  1\n"
     ]
    },
    {
     "name": "stdout",
     "output_type": "stream",
     "text": [
      "the total refund is :  0.45 $\n"
     ]
    }
   ],
   "source": [
    "## EX5\n",
    "nbSmall=int(input(\"<=1L :\"))\n",
    "nbBig=int(input(\">1L : \"))\n",
    "total=nbSmall*0.1+nbBig*0.25\n",
    "print(\"the total refund is : \", total, \"$\")                  "
   ]
  },
  {
   "cell_type": "code",
   "execution_count": 46,
   "id": "9c410829-0a36-43a8-8d6b-7f493c605037",
   "metadata": {},
   "outputs": [
    {
     "name": "stdin",
     "output_type": "stream",
     "text": [
      "Please enter the cost of the meal 100\n"
     ]
    },
    {
     "name": "stdout",
     "output_type": "stream",
     "text": [
      "Tax:  20.0 \n",
      " Tip :  18.0 \n",
      " Total :  138.0\n"
     ]
    }
   ],
   "source": [
    "## EX 6\n",
    "cost=float(input(\"Please enter the cost of the meal\"))\n",
    "tax=cost*0.2 \n",
    "tip=cost*0.18\n",
    "total=cost+tax+tip\n",
    "print(\"Tax: \",tax,\"\\n\",\"Tip : \",tip,\"\\n\",\"Total : \", total)"
   ]
  },
  {
   "cell_type": "code",
   "execution_count": 52,
   "id": "0349cfdb-cddc-4995-807a-bbc9673a5a66",
   "metadata": {},
   "outputs": [
    {
     "name": "stdin",
     "output_type": "stream",
     "text": [
      "Enter positive integer 10\n"
     ]
    },
    {
     "name": "stdout",
     "output_type": "stream",
     "text": [
      "The sum from 1 to  10  is 55.0\n"
     ]
    }
   ],
   "source": [
    "### EX 7\n",
    "n=int(input(\"Enter positive integer\"))\n",
    "sum=n*(n+1)/2\n",
    "print(\"The sum from 1 to \",n,\" is\", sum)"
   ]
  },
  {
   "cell_type": "code",
   "execution_count": 70,
   "id": "f8be8516-4fe8-4cbd-aa1f-3a24405d11fc",
   "metadata": {},
   "outputs": [
    {
     "name": "stdin",
     "output_type": "stream",
     "text": [
      "The number of widgets 1\n",
      "The number of gizmos 1\n"
     ]
    },
    {
     "name": "stdout",
     "output_type": "stream",
     "text": [
      "The totla weight is :  187 g\n"
     ]
    }
   ],
   "source": [
    "##EX 8\n",
    "nbW=int(input(\"The number of widgets\"))\n",
    "nbG=int(input(\"The number of gizmos\"))\n",
    "totalWeight=nbW*75+nbG*112\n",
    "print(\"The totla weight is : \", totalWeight,\"g\")"
   ]
  },
  {
   "cell_type": "code",
   "execution_count": 78,
   "id": "ec8cd6ce-c031-46a3-a079-981a21239343",
   "metadata": {},
   "outputs": [
    {
     "name": "stdin",
     "output_type": "stream",
     "text": [
      "deposit : 100\n"
     ]
    },
    {
     "name": "stdout",
     "output_type": "stream",
     "text": [
      "1st year : 104.0 2nd year : 108.16 3rd year : 112.4864\n"
     ]
    }
   ],
   "source": [
    "## EX 9\n",
    "deposit=float(input(\"deposit :\"))\n",
    "s1=deposit*1.04\n",
    "s2=s1*1.04\n",
    "s3=s2*1.04\n",
    "print(\"1st year :\", s1, \"2nd year :\", s2, \"3rd year :\", s3)"
   ]
  },
  {
   "cell_type": "code",
   "execution_count": 84,
   "id": "de910ab1-1830-40d4-9fcb-d2ed8926b3d0",
   "metadata": {},
   "outputs": [
    {
     "name": "stdin",
     "output_type": "stream",
     "text": [
      "Enter MPG 10\n"
     ]
    },
    {
     "name": "stdout",
     "output_type": "stream",
     "text": [
      "10.0 mpg = 2352.15 L/100\n"
     ]
    }
   ],
   "source": [
    "##11\n",
    "mpg=float(input(\"Enter MPG\"))\n",
    "print(mpg, \"mpg =\", mpg*235.215,\"L/100\")\n"
   ]
  },
  {
   "cell_type": "code",
   "execution_count": 21,
   "id": "33142b36-4ac4-4667-80a8-001ea8906259",
   "metadata": {},
   "outputs": [
    {
     "name": "stdin",
     "output_type": "stream",
     "text": [
      "Enter the amount of cents 860\n"
     ]
    },
    {
     "name": "stdout",
     "output_type": "stream",
     "text": [
      "2€ 4 | 1€ 0\n"
     ]
    }
   ],
   "source": []
  },
  {
   "cell_type": "code",
   "execution_count": 19,
   "id": "38751186-a00d-48b6-8ede-27d7ad0002f4",
   "metadata": {},
   "outputs": [
    {
     "name": "stdin",
     "output_type": "stream",
     "text": [
      "t1 78\n",
      "t2 45\n",
      "g1 15\n",
      "g2 45\n"
     ]
    },
    {
     "name": "stdout",
     "output_type": "stream",
     "text": [
      "The distance between the two points is 3893.80 kilometers.\n"
     ]
    }
   ],
   "source": [
    "## 12\n",
    "import math\n",
    "lat1=float(input(\"t1\"))\n",
    "lat2=float(input(\"t2\"))\n",
    "lon1=float(input(\"g1\"))\n",
    "lon2=float(input(\"g2\"))\n",
    "\n",
    "t1 = math.radians(lat1)\n",
    "g1 = math.radians(lon1)\n",
    "t2 = math.radians(lat2)\n",
    "g2 = math.radians(lon2)\n",
    "distance = 6371.01 * math.acos(\n",
    "    math.sin(t1) * math.sin(t2) +\n",
    "    math.cos(t1) * math.cos(t2) * math.cos(g1 - g2)\n",
    ")\n",
    "print(f\"The distance between the two points is {distance:.2f} kilometers.\")\n",
    "#distance=6371.01*math.acos(math.sin(t1)*math.sin(t2)+math.cos(t1)*math.cos(g1-g2))\n",
    "#print(distance)"
   ]
  },
  {
   "cell_type": "code",
   "execution_count": 23,
   "id": "e0a8a00f-27f6-4dff-a977-2d2c0dce9b8c",
   "metadata": {},
   "outputs": [
    {
     "name": "stdin",
     "output_type": "stream",
     "text": [
      "Enter the amount of cents 5235\n"
     ]
    },
    {
     "name": "stdout",
     "output_type": "stream",
     "text": [
      "2€ 26 | 1€ 0\n"
     ]
    }
   ],
   "source": [
    "## ex 13\n",
    "\n",
    "c1=1\n",
    "c2=2\n",
    "c5=5\n",
    "c10=10\n",
    "c20=20\n",
    "c50=50\n",
    "e1=100\n",
    "e2=200\n",
    "cents=int(input(\"Enter the amount of cents\"))\n",
    "countE2=cents//200\n",
    "countE1=cents%e2//100\n",
    "\n",
    "print(f\"2€ {countE2} | 1€ {countE1}\")"
   ]
  },
  {
   "cell_type": "code",
   "execution_count": 33,
   "id": "d75d4865-e803-4ff8-9fc8-2378c17a4ba4",
   "metadata": {},
   "outputs": [
    {
     "name": "stdin",
     "output_type": "stream",
     "text": [
      "foot :  12\n",
      "inches :  4\n"
     ]
    },
    {
     "name": "stdout",
     "output_type": "stream",
     "text": [
      "height in cm : 375.92 cm\n"
     ]
    }
   ],
   "source": [
    "## EX 14\n",
    "\n",
    "foot=int(input(\"foot : \"))\n",
    "inches=int(input(\"inches : \"))\n",
    "#cm=foot*12*2.54+inches*2.54\n",
    "cm=2.54*(foot*12+inches)\n",
    "print(f\"height in cm : {cm} cm\")\n"
   ]
  },
  {
   "cell_type": "code",
   "execution_count": 53,
   "id": "8d11b705-b9c2-40ef-bb15-ad58e0c34041",
   "metadata": {},
   "outputs": [
    {
     "name": "stdin",
     "output_type": "stream",
     "text": [
      "Enter the radius 4\n"
     ]
    },
    {
     "name": "stdout",
     "output_type": "stream",
     "text": [
      " Area : 50.2655\n",
      " Volume : 268.0826\n"
     ]
    }
   ],
   "source": [
    "#EX 16\n",
    "r=int(input(\"Enter the radius\"))\n",
    "area=math.pi*r**2\n",
    "volume=4/3*math.pi*r**3\n",
    "\n",
    "print(f\" Area : {area:.4f}\\n Volume : {volume:.4f}\")\n"
   ]
  },
  {
   "cell_type": "code",
   "execution_count": 55,
   "id": "fea92814-7f50-4ad1-9df6-cfbe208fddab",
   "metadata": {},
   "outputs": [
    {
     "name": "stdin",
     "output_type": "stream",
     "text": [
      "side 1  12\n",
      "side 2  45\n",
      "side 3  47\n"
     ]
    },
    {
     "name": "stdout",
     "output_type": "stream",
     "text": [
      "5672.493631552176\n"
     ]
    }
   ],
   "source": [
    "##EX 22\n",
    "import math\n",
    "s1=int(input(\"side 1 \"))\n",
    "s2=int(input(\"side 2 \"))\n",
    "s3=int(input(\"side 3 \"))\n",
    "s=s1+s2+s3\n",
    "area=math.sqrt(s*(s-s1)*(s-s2)*(s-s3))\n",
    "print(area)\n"
   ]
  },
  {
   "cell_type": "code",
   "execution_count": 57,
   "id": "2df8b364-33bb-4338-ac4f-172beb51edd7",
   "metadata": {},
   "outputs": [
    {
     "name": "stdin",
     "output_type": "stream",
     "text": [
      "seconds : 7\n",
      "minutes : 4\n",
      "hours : 5\n",
      "days : 1\n"
     ]
    },
    {
     "name": "stdout",
     "output_type": "stream",
     "text": [
      "104647\n"
     ]
    }
   ],
   "source": [
    "#Ex 24\n",
    "s=int(input(\"seconds :\"))\n",
    "m=int(input(\"minutes :\"))\n",
    "h=int(input(\"hours :\"))\n",
    "d=int(input(\"days :\"))\n",
    "\n",
    "totalSeconds=s+60*m+3600*h+24*3600*d\n",
    "print(totalSeconds)\n"
   ]
  },
  {
   "cell_type": "code",
   "execution_count": 93,
   "id": "041129a8-1c68-433f-9946-41c5fa9f1554",
   "metadata": {},
   "outputs": [
    {
     "name": "stdin",
     "output_type": "stream",
     "text": [
      "Seconds 5555\n"
     ]
    },
    {
     "name": "stdout",
     "output_type": "stream",
     "text": [
      " 0d:01h:32m:35s\n"
     ]
    }
   ],
   "source": [
    "##EX25\n",
    "\n",
    "seconds=int(input(\"Seconds\"))\n",
    "sDay=86400\n",
    "sHour=3600\n",
    "sMinute=60\n",
    "\n",
    "day=seconds//sDay\n",
    "seconds=seconds%sDay\n",
    "hour=seconds//sHour\n",
    "seconds=seconds%sHour\n",
    "minute=seconds//sMinute\n",
    "seconds=seconds%sMinute\n",
    "print(f\" {day}d:{hour:02d}h:{minute}m:{seconds}s\")"
   ]
  },
  {
   "cell_type": "code",
   "execution_count": 101,
   "id": "4a7ddd84-cc4b-4b68-a9b7-a1a5487253de",
   "metadata": {},
   "outputs": [
    {
     "data": {
      "text/plain": [
       "'Thu Oct 17 10:52:24 2024'"
      ]
     },
     "execution_count": 101,
     "metadata": {},
     "output_type": "execute_result"
    }
   ],
   "source": [
    "#EX26 \n",
    "import time\n",
    "time.asctime()"
   ]
  },
  {
   "cell_type": "code",
   "execution_count": 113,
   "id": "89440ac8-daa1-4dc3-926a-25a43fc554f2",
   "metadata": {},
   "outputs": [
    {
     "name": "stdin",
     "output_type": "stream",
     "text": [
      "Year 2025\n"
     ]
    },
    {
     "name": "stdout",
     "output_type": "stream",
     "text": [
      "month : 4, day : 19\n"
     ]
    }
   ],
   "source": [
    "#EX 27\n",
    "\n",
    "year=int(input(\"Year\"))\n",
    "a=year%19\n",
    "b=year//100\n",
    "c=year%100\n",
    "d=b//4\n",
    "e=b%4\n",
    "f=(b+8)//25\n",
    "g=(b-f+1)//3\n",
    "h=(19*a+b-d-g+15)%30\n",
    "i=c//4\n",
    "k=c%4\n",
    "l=(32+2*e+2*i-h-k)%7\n",
    "m=(a+11*h+22*l)//451\n",
    "month=(h+l-7*m+114)//31\n",
    "day=(h+l-7*m+114)%31\n",
    "\n",
    "print(f\"month : {month}, day : {day}\")"
   ]
  },
  {
   "cell_type": "code",
   "execution_count": 135,
   "id": "50abe985-eb26-4778-9617-118fb48a751c",
   "metadata": {},
   "outputs": [
    {
     "name": "stdin",
     "output_type": "stream",
     "text": [
      "a 1234\n"
     ]
    },
    {
     "name": "stdout",
     "output_type": "stream",
     "text": [
      "1 2 3 4\n",
      "10\n"
     ]
    }
   ],
   "source": [
    "#ex32\n",
    "a=int(input(\"a\"))\n",
    "d1=a//1000\n",
    "a=a%1000\n",
    "d2=a//100\n",
    "a=a%100\n",
    "d3=a//10\n",
    "a=a%10\n",
    "\n",
    "digSum=d1+d2+d3+a\n",
    "print(d1, d2, d3, a)\n",
    "print(digSum)\n",
    "\n"
   ]
  },
  {
   "cell_type": "code",
   "execution_count": null,
   "id": "ddb71d47-2cbd-4938-9003-b6e4549a5b32",
   "metadata": {},
   "outputs": [],
   "source": []
  },
  {
   "cell_type": "code",
   "execution_count": 141,
   "id": "418a1b05-19df-4eaa-a3cd-2de190f07543",
   "metadata": {},
   "outputs": [
    {
     "name": "stdin",
     "output_type": "stream",
     "text": [
      "Enter a number 0\n"
     ]
    },
    {
     "name": "stdout",
     "output_type": "stream",
     "text": [
      "even\n"
     ]
    }
   ],
   "source": [
    "#ex 35\n",
    "nb=int(input(\"Enter a number\"))\n",
    "res='even'\n",
    "if nb%2==1 :\n",
    "    res='odd'\n",
    "print(res)\n"
   ]
  },
  {
   "cell_type": "code",
   "execution_count": 165,
   "id": "47bb4057-8f85-45cd-b10b-27cd53b685b7",
   "metadata": {},
   "outputs": [
    {
     "name": "stdin",
     "output_type": "stream",
     "text": [
      "Enter human age 5\n"
     ]
    },
    {
     "name": "stdout",
     "output_type": "stream",
     "text": [
      "Dog age is :  33\n"
     ]
    }
   ],
   "source": [
    "#ex36\n",
    "hy=int(input(\"Enter human age\"))\n",
    "\n",
    "if hy<0 :\n",
    "    print(\"Age can't be negative\")\n",
    "if hy<=2 : \n",
    "    dy=hy*10.5\n",
    "else:\n",
    "    dy=21+(hy-2)*4\n",
    "print(\"Dog age is : \", dy)"
   ]
  },
  {
   "cell_type": "code",
   "execution_count": 183,
   "id": "88ed3796-cd51-400c-88a2-a4e580e0566e",
   "metadata": {},
   "outputs": [
    {
     "name": "stdin",
     "output_type": "stream",
     "text": [
      "Enter a letter O\n"
     ]
    },
    {
     "name": "stdout",
     "output_type": "stream",
     "text": [
      "The letter is consonant\n"
     ]
    }
   ],
   "source": [
    "#ex37\n",
    "vowels=('a','e','i','o','u')\n",
    "letter=input(\"Enter a letter\")\n",
    "if letter in vowels:\n",
    "    print(\"The letter is vowel\")\n",
    "elif letter=='y':\n",
    "    print(\"sometimes y is a vowel, and sometimes y is a consonant\")\n",
    "else :\n",
    "    print(\"The letter is consonant\")"
   ]
  },
  {
   "cell_type": "code",
   "execution_count": 191,
   "id": "afd48578-087b-4ad7-b8b4-badd87ddb8da",
   "metadata": {},
   "outputs": [
    {
     "name": "stdin",
     "output_type": "stream",
     "text": [
      "Enter the name of month april\n"
     ]
    },
    {
     "name": "stdout",
     "output_type": "stream",
     "text": [
      "30 days\n"
     ]
    }
   ],
   "source": [
    "#ex39\n",
    "month=input(\"Enter the name of month\")\n",
    "\n",
    "m31=('january', 'march','may', 'july', 'august','october', 'december')\n",
    "m30=('april','june', 'september', 'november')\n",
    "\n",
    "if month in m31 :\n",
    "    print(\"31 days\")\n",
    "elif month in m30 :\n",
    "    print(\"30 days\")\n",
    "elif month=='february' :\n",
    "    print(\"28 or 29 days\")\n",
    "else :\n",
    "    print(\"no such month\")"
   ]
  },
  {
   "cell_type": "code",
   "execution_count": 201,
   "id": "d6c7fd43-b81a-4bb2-860f-fb492bc73b6d",
   "metadata": {},
   "outputs": [
    {
     "name": "stdin",
     "output_type": "stream",
     "text": [
      "Enter the note C5\n"
     ]
    },
    {
     "name": "stdout",
     "output_type": "stream",
     "text": [
      "528.66\n"
     ]
    }
   ],
   "source": [
    "#ex 42\n",
    "name=input(\"Enter the note\")\n",
    "note=name[0]\n",
    "octave=int(name[1])\n",
    "\n",
    "hzC4=264.33\n",
    "hzD4=293.66\n",
    "hzE4=329.63\n",
    "hzF4=349.23\n",
    "hzG4=392.00\n",
    "hzA4=440.00\n",
    "hzB4=493.88\n",
    "\n",
    "match (note) : \n",
    "    case 'C':\n",
    "        hz=hzC4\n",
    "    case 'D':\n",
    "        hz=hzD4\n",
    "    case 'E' :\n",
    "        hz=hzE4\n",
    "    case 'F':\n",
    "        hz=hzF4\n",
    "    case 'G':\n",
    "        hz=hzG4\n",
    "    case 'A':\n",
    "        hz=hzA4\n",
    "    case 'B':\n",
    "        hz=hzB4\n",
    "    case _: \n",
    "        hz=\"incorrect\"\n",
    "        \n",
    "hz=hz/2**(4-octave)\n",
    "print(hz)    \n",
    "\n",
    "\n"
   ]
  },
  {
   "cell_type": "code",
   "execution_count": 4,
   "id": "db9eb917-cf74-493b-a74c-10db1adfded0",
   "metadata": {},
   "outputs": [
    {
     "name": "stdin",
     "output_type": "stream",
     "text": [
      "number 2\n"
     ]
    },
    {
     "name": "stdout",
     "output_type": "stream",
     "text": [
      "positive\n"
     ]
    },
    {
     "name": "stdin",
     "output_type": "stream",
     "text": [
      "number -2\n"
     ]
    },
    {
     "name": "stdout",
     "output_type": "stream",
     "text": [
      "negative\n"
     ]
    },
    {
     "name": "stdin",
     "output_type": "stream",
     "text": [
      "number 0\n"
     ]
    }
   ],
   "source": [
    "x=int(input(\"number\"))\n",
    "while x!= 0:\n",
    "    if x>0:\n",
    "        print(\"positive\")\n",
    "    else:\n",
    "        print(\"negative\")\n",
    "    x=int(input(\"number\"))"
   ]
  },
  {
   "cell_type": "code",
   "execution_count": 10,
   "id": "fff40a34-3a29-41d2-897f-832ac6ddbc71",
   "metadata": {},
   "outputs": [
    {
     "name": "stdin",
     "output_type": "stream",
     "text": [
      "Enter an integer:  12\n"
     ]
    },
    {
     "name": "stdout",
     "output_type": "stream",
     "text": [
      "The multiples of 3 up to and including 12 are:\n",
      "3\n",
      "6\n",
      "9\n",
      "12\n"
     ]
    }
   ],
   "source": [
    "limit = int(input(\"Enter an integer: \"))\n",
    "print(\"The multiples of 3 up to and including\", limit, \"are:\")\n",
    "for i in range(3, limit + 1, 3):\n",
    "    print(i)"
   ]
  },
  {
   "cell_type": "code",
   "execution_count": 14,
   "id": "9f0c0257-9e6f-44a5-811b-d0f20e7dfcf7",
   "metadata": {},
   "outputs": [
    {
     "name": "stdin",
     "output_type": "stream",
     "text": [
      "Enter a message (blank to quit):  HHHHH\n",
      "How many times should it be repeated?  2\n"
     ]
    },
    {
     "name": "stdout",
     "output_type": "stream",
     "text": [
      "HHHHH\n",
      "HHHHH\n"
     ]
    },
    {
     "name": "stdin",
     "output_type": "stream",
     "text": [
      "Enter a message (blank to quit):  HHHH\n",
      "How many times should it be repeated?  6\n"
     ]
    },
    {
     "name": "stdout",
     "output_type": "stream",
     "text": [
      "HHHH\n",
      "HHHH\n",
      "HHHH\n",
      "HHHH\n",
      "HHHH\n",
      "HHHH\n"
     ]
    },
    {
     "name": "stdin",
     "output_type": "stream",
     "text": [
      "Enter a message (blank to quit):  \n"
     ]
    }
   ],
   "source": [
    "message = input(\"Enter a message (blank to quit): \")\n",
    "# Loop until the message is a blank line\n",
    "while message != \"\":\n",
    "# Read the number of times the message should be displayed\n",
    "    n = int(input(\"How many times should it be repeated? \"))\n",
    "# Display the message the number of times requested\n",
    "    for i in range(n):\n",
    "        print(message)\n",
    "# Read the next message from the user\n",
    "    message = input(\"Enter a message (blank to quit): \")"
   ]
  },
  {
   "cell_type": "code",
   "execution_count": null,
   "id": "8782e26a-8f10-4318-8ecd-ba48b80564d8",
   "metadata": {},
   "outputs": [],
   "source": []
  },
  {
   "cell_type": "code",
   "execution_count": 67,
   "id": "2358cd6a-3257-4f16-ac50-32d2ee8009a3",
   "metadata": {},
   "outputs": [
    {
     "name": "stdin",
     "output_type": "stream",
     "text": [
      "Enter a number (0 to stop):  2\n",
      "Enter a number (0 to stop):  2\n"
     ]
    },
    {
     "name": "stdout",
     "output_type": "stream",
     "text": [
      "4.0\n",
      "2\n"
     ]
    },
    {
     "name": "stdin",
     "output_type": "stream",
     "text": [
      "Enter a number (0 to stop):  2\n"
     ]
    },
    {
     "name": "stdout",
     "output_type": "stream",
     "text": [
      "6.0\n",
      "3\n"
     ]
    },
    {
     "name": "stdin",
     "output_type": "stream",
     "text": [
      "Enter a number (0 to stop):  2\n"
     ]
    },
    {
     "name": "stdout",
     "output_type": "stream",
     "text": [
      "8.0\n",
      "4\n"
     ]
    },
    {
     "name": "stdin",
     "output_type": "stream",
     "text": [
      "Enter a number (0 to stop):  0\n"
     ]
    },
    {
     "name": "stdout",
     "output_type": "stream",
     "text": [
      "8.0\n",
      "5\n",
      "2.0\n",
      "toto\n"
     ]
    }
   ],
   "source": [
    "val = float(input(\"Enter a number (0 to stop): \"))\n",
    "sum=val\n",
    "count=1\n",
    "#val=0\n",
    "while val!=0 :\n",
    "    val = float(input(\"Enter a number (0 to stop): \"))    \n",
    "    sum=sum+val\n",
    "    count=count+1\n",
    "    #print(sum)\n",
    "    #print(count)\n",
    "    \n",
    "print(sum/(count-1))"
   ]
  },
  {
   "cell_type": "code",
   "execution_count": 71,
   "id": "e6d55edc-8057-4ad8-a8fd-4edb915a8cbc",
   "metadata": {},
   "outputs": [
    {
     "name": "stdout",
     "output_type": "stream",
     "text": [
      "0°C = 32.0 °F\n",
      "10°C = 50.0 °F\n",
      "20°C = 68.0 °F\n",
      "30°C = 86.0 °F\n",
      "40°C = 104.0 °F\n",
      "50°C = 122.0 °F\n",
      "60°C = 140.0 °F\n",
      "70°C = 158.0 °F\n",
      "80°C = 176.0 °F\n",
      "90°C = 194.0 °F\n",
      "100°C = 212.0 °F\n"
     ]
    }
   ],
   "source": [
    "##EX 65\n",
    "\n",
    "# ( °C × 9/5) + 32 =  °F\n",
    "for c in range(0,101,10):\n",
    "    f=32+(c*9/5)\n",
    "    print(f\"{c}°C = {f} °F\")"
   ]
  },
  {
   "cell_type": "code",
   "execution_count": null,
   "id": "418763e4-1e76-476f-a8b0-f8e0ce508f82",
   "metadata": {},
   "outputs": [],
   "source": []
  },
  {
   "cell_type": "code",
   "execution_count": 98,
   "id": "c21e6dde-8ab0-40c3-836a-84fe7bc4ceba",
   "metadata": {},
   "outputs": [
    {
     "name": "stdin",
     "output_type": "stream",
     "text": [
      "Enter the age of the guest 55\n"
     ]
    },
    {
     "name": "stdout",
     "output_type": "stream",
     "text": [
      "55\n",
      "23\n"
     ]
    },
    {
     "name": "stdin",
     "output_type": "stream",
     "text": [
      "Enter the age of the guest 55\n"
     ]
    },
    {
     "name": "stdout",
     "output_type": "stream",
     "text": [
      "55\n",
      "46\n"
     ]
    },
    {
     "name": "stdin",
     "output_type": "stream",
     "text": [
      "Enter the age of the guest 1\n"
     ]
    },
    {
     "name": "stdout",
     "output_type": "stream",
     "text": [
      "1\n"
     ]
    },
    {
     "name": "stdin",
     "output_type": "stream",
     "text": [
      "Enter the age of the guest 3\n"
     ]
    },
    {
     "name": "stdout",
     "output_type": "stream",
     "text": [
      "3\n",
      "60\n"
     ]
    },
    {
     "name": "stdin",
     "output_type": "stream",
     "text": [
      "Enter the age of the guest \n"
     ]
    },
    {
     "name": "stdout",
     "output_type": "stream",
     "text": [
      "60\n"
     ]
    }
   ],
   "source": [
    "## ex 69\n",
    "cost=0\n",
    "text=input(\"Enter the age of the guest\")\n",
    "while text!=\"\":\n",
    "    age=int(text)\n",
    "    print(age)\n",
    "    if int(age)>=65:\n",
    "        cost=cost+18\n",
    "        print(cost)\n",
    "    elif int(age)>=12:\n",
    "        cost=cost+23\n",
    "        print(cost)\n",
    "    elif int(age)>2 :\n",
    "        cost=cost+14\n",
    "        print(cost)\n",
    "    text=input(\"Enter the age of the guest\")\n",
    "\n",
    "print(cost)"
   ]
  },
  {
   "cell_type": "code",
   "execution_count": 138,
   "id": "52815203-625b-46fa-9db5-9d26d7c81f37",
   "metadata": {},
   "outputs": [
    {
     "name": "stdin",
     "output_type": "stream",
     "text": [
      "Enter binary number 010101010101101\n"
     ]
    },
    {
     "name": "stdout",
     "output_type": "stream",
     "text": [
      "1 1\n",
      "2 1\n",
      "3 5\n",
      "4 13\n",
      "5 13\n",
      "6 45\n",
      "7 45\n",
      "8 173\n",
      "9 173\n",
      "10 685\n",
      "11 685\n",
      "12 2733\n",
      "13 2733\n",
      "14 10925\n",
      "15 10925\n",
      "10925\n"
     ]
    }
   ],
   "source": [
    "#EX81\n",
    "binary=input(\"Enter binary number\")\n",
    "decimal=0\n",
    "count=0\n",
    "for i in reversed(binary):\n",
    "    decimal=decimal+2**count*int(i)\n",
    "    count+=1\n",
    "    #print(count, decimal)\n",
    "print(decimal)"
   ]
  },
  {
   "cell_type": "code",
   "execution_count": 102,
   "id": "14d39778-47fc-491c-bf3d-9966ba88b085",
   "metadata": {},
   "outputs": [
    {
     "name": "stdout",
     "output_type": "stream",
     "text": [
      "0\n"
     ]
    }
   ],
   "source": [
    "#EX 82\n"
   ]
  },
  {
   "cell_type": "code",
   "execution_count": 158,
   "id": "861bb8a1-9d86-4b6a-b3ed-527ee24909dd",
   "metadata": {},
   "outputs": [
    {
     "name": "stdout",
     "output_type": "stream",
     "text": [
      "[73, 40, 42, 78, 50, 63, 2, 96, 66, 15]\n"
     ]
    }
   ],
   "source": [
    "import random\n",
    "\n",
    "a=[]\n",
    "for i in range(10):\n",
    "    a.append(random.randint(1,100))\n",
    "print(a)"
   ]
  },
  {
   "cell_type": "code",
   "execution_count": 156,
   "id": "4853f719-c768-4d38-922a-4648637a98e9",
   "metadata": {},
   "outputs": [
    {
     "name": "stdout",
     "output_type": "stream",
     "text": [
      "2\n",
      "55 <== Update\n",
      "99 <== Update\n",
      "63\n",
      "43\n",
      "82\n",
      "43\n",
      "25\n",
      "29\n",
      "35\n",
      "89\n",
      "64\n",
      "39\n",
      "98\n",
      "47\n",
      "94\n",
      "100 <== Update\n",
      "6\n",
      "68\n",
      "23\n",
      "56\n",
      "98\n",
      "11\n",
      "12\n",
      "2\n",
      "58\n",
      "82\n",
      "45\n",
      "39\n",
      "73\n",
      "30\n",
      "73\n",
      "97\n",
      "9\n",
      "6\n",
      "45\n",
      "15\n",
      "88\n",
      "47\n",
      "70\n",
      "20\n",
      "31\n",
      "45\n",
      "59\n",
      "67\n",
      "91\n",
      "82\n",
      "87\n",
      "93\n",
      "31\n",
      "84\n",
      "96\n",
      "54\n",
      "6\n",
      "19\n",
      "28\n",
      "35\n",
      "44\n",
      "70\n",
      "6\n",
      "88\n",
      "28\n",
      "56\n",
      "64\n",
      "73\n",
      "16\n",
      "71\n",
      "28\n",
      "43\n",
      "18\n",
      "28\n",
      "26\n",
      "45\n",
      "62\n",
      "81\n",
      "87\n",
      "86\n",
      "30\n",
      "57\n",
      "31\n",
      "88\n",
      "45\n",
      "57\n",
      "21\n",
      "12\n",
      "42\n",
      "75\n",
      "80\n",
      "7\n",
      "25\n",
      "80\n",
      "60\n",
      "57\n",
      "26\n",
      "99\n",
      "24\n",
      "7\n",
      "21\n",
      "23\n",
      "13\n",
      "The maximum value found was 100\n",
      "The maximum value was updated 3 times\n"
     ]
    }
   ],
   "source": [
    "#EX 83\n",
    "import random\n",
    "\n",
    "max=random.randint(1,100)\n",
    "update=0\n",
    "for i in range(100):\n",
    "    nb=random.randint(1,100)\n",
    "    if nb>max:\n",
    "        max=nb\n",
    "        update+=1\n",
    "        print(f\"{nb} <== Update\")\n",
    "    else:\n",
    "        print(nb)\n",
    "print(\"The maximum value found was\", max)\n",
    "print(f\"The maximum value was updated {update} times\")"
   ]
  },
  {
   "cell_type": "code",
   "execution_count": 337,
   "id": "ac7c6a3f-4748-463d-9b16-bbce2b32c2d9",
   "metadata": {},
   "outputs": [
    {
     "name": "stdout",
     "output_type": "stream",
     "text": [
      "THHH (4 flips)\n",
      "HTTHTHHH (8 flips)\n",
      "HTHTHTTT (8 flips)\n",
      "HTTHTTHTHHH (11 flips)\n",
      "HTTHTTHHH (9 flips)\n",
      "HTHTTHTHHTTHHH (14 flips)\n",
      "HTHTTT (6 flips)\n",
      "HTHHH (5 flips)\n",
      "HTTHTTT (7 flips)\n",
      "HTTHTHHTTT (10 flips)\n",
      "On average, 8.2 flips were needed\n"
     ]
    }
   ],
   "source": [
    "#ex 84\n",
    "import random\n",
    "\n",
    "sumFlips=0\n",
    "\n",
    "for i in range(10):\n",
    "    c=\"\"\n",
    "    flips=0\n",
    "    while ('HHH' not in c) and ('TTT' not in c):\n",
    "        r=random.randint(1,2)\n",
    "        flips+=1\n",
    "        if r==1:\n",
    "            c=c+\"H\"\n",
    "        else:\n",
    "            c=c+\"T\"\n",
    "    sumFlips=sumFlips+flips  \n",
    "    print(f\"{c} ({flips} flips)\")\n",
    "print(f\"On average, {sumFlips/10} flips were needed\")"
   ]
  },
  {
   "cell_type": "code",
   "execution_count": 287,
   "id": "d9b9bf74-6938-403d-b741-f16abf4b1be9",
   "metadata": {},
   "outputs": [
    {
     "name": "stdout",
     "output_type": "stream",
     "text": [
      "True\n",
      "False\n"
     ]
    }
   ],
   "source": [
    "a='HHH'\n",
    "b='TTT'\n",
    "ch='hjgjgggTTTkjhkhTThgjhT'\n",
    "print(a not in ch)\n",
    "print(b not in ch)"
   ]
  },
  {
   "cell_type": "code",
   "execution_count": 307,
   "id": "095fb480-b320-4099-a8f1-2b6e036dd8f6",
   "metadata": {},
   "outputs": [
    {
     "name": "stdout",
     "output_type": "stream",
     "text": [
      "********\n",
      "*      *\n",
      "*      *\n",
      "********\n"
     ]
    }
   ],
   "source": [
    "def drawBox():\n",
    "    print(\"********\")\n",
    "    print(\"*      *\")\n",
    "    print(\"*      *\")\n",
    "    print(\"********\")\n",
    "drawBox()"
   ]
  },
  {
   "cell_type": "code",
   "execution_count": 315,
   "id": "04a55df2-37fc-4354-a55a-9f6f142e5b5d",
   "metadata": {},
   "outputs": [
    {
     "name": "stdout",
     "output_type": "stream",
     "text": [
      "**********\n",
      "*        *\n",
      "*        *\n",
      "**********\n",
      "********************\n",
      "*                  *\n",
      "*                  *\n",
      "*                  *\n",
      "*                  *\n",
      "*                  *\n",
      "*                  *\n",
      "*                  *\n",
      "*                  *\n",
      "*                  *\n",
      "********************\n"
     ]
    }
   ],
   "source": [
    "def drawBox2(width, height):\n",
    "    if width<2 or height <2:\n",
    "        print(\"too small\")\n",
    "        quit()\n",
    "    print(\"*\"*width)\n",
    "    for i in range(height-2) :\n",
    "        print(\"*\"+\" \"*(width-2)+\"*\")\n",
    "    print(\"*\"*width)\n",
    "drawBox2(10,4)\n",
    "drawBox2(20,11)"
   ]
  },
  {
   "cell_type": "code",
   "execution_count": 325,
   "id": "54a13790-b2ce-4448-bf5a-e59c8681ce14",
   "metadata": {},
   "outputs": [
    {
     "name": "stdout",
     "output_type": "stream",
     "text": [
      "**************\n",
      "*////////////*\n",
      "*////////////*\n",
      "*////////////*\n",
      "*////////////*\n",
      "*////////////*\n",
      "*////////////*\n",
      "*////////////*\n",
      "*////////////*\n",
      "**************\n"
     ]
    }
   ],
   "source": [
    "def drawBox3(width, height,outline, fill):\n",
    "    if width<2 or height <2:\n",
    "        print(\"too small\")\n",
    "        quit()\n",
    "    print(outline*width)\n",
    "    for i in range(height-2) :\n",
    "        print(outline+fill*(width-2)+outline)\n",
    "    print(outline*width)\n",
    "drawBox3(14,10,\"*\",\"/\")"
   ]
  },
  {
   "cell_type": "code",
   "execution_count": 14,
   "id": "49dcee6e-e290-4e9c-9bb2-cdabe21bf7b7",
   "metadata": {},
   "outputs": [
    {
     "name": "stdin",
     "output_type": "stream",
     "text": [
      "Enter integers:  1\n",
      "Enter integers:  2\n",
      "Enter integers:  3\n",
      "Enter integers:  0\n"
     ]
    },
    {
     "name": "stdout",
     "output_type": "stream",
     "text": [
      "[3, 2, 1]\n"
     ]
    }
   ],
   "source": [
    "#### ex 110\n",
    "myList=[]\n",
    "text=input(\"Enter integers: \")\n",
    "while text!=\"0\":\n",
    "    val=int(text)\n",
    "    myList.append(val)\n",
    "    text=input(\"Enter integers: \")\n",
    "#myList.sort()\n",
    "myList.reverse()\n",
    "print(myList)\n",
    "\n",
    "    "
   ]
  },
  {
   "cell_type": "code",
   "execution_count": null,
   "id": "fd9dc133-4b48-4f05-bfd5-e5eecd8c4af7",
   "metadata": {},
   "outputs": [],
   "source": []
  },
  {
   "cell_type": "code",
   "execution_count": 32,
   "id": "09aa54e3-30c8-425b-a26e-664d81090445",
   "metadata": {},
   "outputs": [
    {
     "name": "stdin",
     "output_type": "stream",
     "text": [
      "Type words:  q\n",
      "Enter integers:  h\n",
      "Enter integers:  q\n",
      "Enter integers:  h\n",
      "Enter integers:  g\n",
      "Enter integers:  g\n",
      "Enter integers:  h\n",
      "Enter integers:  \n"
     ]
    },
    {
     "name": "stdout",
     "output_type": "stream",
     "text": [
      "['q', 'h', 'g']\n"
     ]
    }
   ],
   "source": [
    "#EX 113\n",
    "words=[]\n",
    "text=input(\"Type words: \")\n",
    "while text!=\"\":\n",
    "    if text not in words:\n",
    "        words.append(text)\n",
    "    text=input(\"Enter integers: \")\n",
    "print(words)\n",
    "    "
   ]
  },
  {
   "cell_type": "code",
   "execution_count": 26,
   "id": "7b965c7d-ab81-48e2-a77b-0834dfe7ef2f",
   "metadata": {},
   "outputs": [
    {
     "data": {
      "text/plain": [
       "True"
      ]
     },
     "execution_count": 26,
     "metadata": {},
     "output_type": "execute_result"
    }
   ],
   "source": []
  },
  {
   "cell_type": "code",
   "execution_count": 117,
   "id": "55a99cc5-8e16-4a95-8883-7b29eb1cd7e8",
   "metadata": {},
   "outputs": [
    {
     "data": {
      "text/plain": [
       "'Lorem ipsum dolor sit amet consectetur adipiscing elit'"
      ]
     },
     "execution_count": 117,
     "metadata": {},
     "output_type": "execute_result"
    }
   ],
   "source": [
    "#ex 117\n",
    "def delPunctMarks(text):  \n",
    "    wordsList=text.split()\n",
    "    pMarks=[',', '.', '?', '!', ':', ';']\n",
    "    for i, word in enumerate(wordsList):\n",
    "        for letter in word:\n",
    "            if letter in pMarks:\n",
    "                #wordList.index('word')\n",
    "                word=word.replace(letter,'')\n",
    "                #print(word)\n",
    "                wordsList[i]=word\n",
    "    textNew=' '.join(wordsList)\n",
    "    return(textNew)\n",
    "    \n",
    "text=\"Lorem, ipsum. dolor! si?t a?met, con:sec:tetur adi:pis:cing elit,\"\n",
    "delPunctMarks(text)"
   ]
  },
  {
   "cell_type": "code",
   "execution_count": 99,
   "id": "07d8f74d-154b-4372-87da-b3a449143d91",
   "metadata": {},
   "outputs": [
    {
     "name": "stdout",
     "output_type": "stream",
     "text": [
      "['Lorem', 'ipsum', 'dolor', 'sit', 'amet', 'consectetur', 'adipiscing', 'elit']\n"
     ]
    }
   ],
   "source": [
    "text=\"Lorem, ipsum. dolor! si?t a?met, con:sec:tetur adi:pis:cing elit,\"\n",
    "wordsList=text.split()\n",
    "pMarks=[',', '.', '?', '!', ':', ';']\n",
    "for i, word in enumerate(wordsList):\n",
    "    for letter in word:\n",
    "        if letter in pMarks:\n",
    "            #wordList.index('word')\n",
    "            word=word.replace(letter,'')\n",
    "            #print(word)\n",
    "            wordsList[i]=word\n",
    "print(wordsList)"
   ]
  },
  {
   "cell_type": "code",
   "execution_count": 81,
   "id": "e41fa229-07e8-4ca0-b573-31a8483d1426",
   "metadata": {},
   "outputs": [
    {
     "name": "stdout",
     "output_type": "stream",
     "text": [
      "['shghd,', 'hgd', 'jhje,', 'hjhe.', 'hheeh', 'hheh,', 'kk']\n",
      "shghd\n",
      "hgd\n",
      "jhje\n",
      "hjhe.\n",
      "hheeh\n",
      "hheh\n",
      "kk\n",
      "['shghd,', 'hgd', 'jhje,', 'hjhe.', 'hheeh', 'hheh,', 'kk']\n"
     ]
    }
   ],
   "source": [
    "text=\"shghd, hgd jhje, hjhe. hheeh hheh, kk\"\n",
    "wordsList=text.split()\n",
    "print(wordsList)\n",
    "pMarks=[',', '.', '?', '!', ':', ';']\n",
    "for word in wordsList:\n",
    "    word=word.replace(',','')\n",
    "    print(word)\n",
    "print(wordsList)\n"
   ]
  },
  {
   "cell_type": "code",
   "execution_count": 79,
   "id": "3fb4c7a3-e940-41e5-9787-a72a1bf59036",
   "metadata": {},
   "outputs": [
    {
     "name": "stdout",
     "output_type": "stream",
     "text": [
      "shghd,\n"
     ]
    }
   ],
   "source": [
    "w=\"shghd,\"\n",
    "w.replace(',','')\n",
    "print(w)"
   ]
  },
  {
   "cell_type": "code",
   "execution_count": 113,
   "id": "878c6f5f-5c6f-4eb8-8446-5c5c846f1068",
   "metadata": {},
   "outputs": [
    {
     "name": "stdout",
     "output_type": "stream",
     "text": [
      "123\n"
     ]
    }
   ],
   "source": [
    "xs = ['1', '2', '3']\n",
    "s = ''.join(xs)\n",
    "print(s)"
   ]
  },
  {
   "cell_type": "code",
   "execution_count": 195,
   "id": "fa36f3dc-206d-449f-a0b1-7af0b8d57c0f",
   "metadata": {},
   "outputs": [
    {
     "name": "stdout",
     "output_type": "stream",
     "text": [
      "False\n",
      "False\n",
      "False\n",
      "False\n",
      "True\n",
      "False\n",
      "False\n"
     ]
    }
   ],
   "source": [
    "#EX 133\n",
    "def isSubList(largeList, smallList):\n",
    "    if smallList==\"\":\n",
    "        return True\n",
    "    \n",
    "    if smallList>largeList:\n",
    "        return False        \n",
    "    \n",
    "    for i in range(len(largeList) - len(smallList) + 1):\n",
    "        if largeList[i:i + len(smallList)] == smallList:\n",
    "            return True \n",
    "    return False\n",
    "\n",
    "print(isSubList([1,2,3,4,5,6,7,8,9],[2,3,4]))\n",
    "\n",
    "print(isSubList([1,2,3,4,5],[7,3,4]))\n",
    "print(isSubList([1,2,3,4,5],[2,3,8]))\n",
    "print(isSubList([1,2,3,4,5],[4,5]))\n",
    "print(isSubList([1,2,3,4,5],[]))\n",
    "print(isSubList([1,2,3,4,5],[4]))\n",
    "print(isSubList([1,2,3,4,5],[7,3,4,4,7,8,4,]))"
   ]
  },
  {
   "cell_type": "code",
   "execution_count": 215,
   "id": "c569259a-4746-4d86-b636-b0f9d9fab9d9",
   "metadata": {},
   "outputs": [
    {
     "name": "stdout",
     "output_type": "stream",
     "text": [
      "0\n"
     ]
    }
   ],
   "source": [
    "larger=[1,2,3,4,5]\n",
    "smaller=[4,9]\n",
    "flag=0\n",
    "for i in range(len(larger) - len(smaller) + 1):\n",
    "    if larger[i:i + len(smaller)] == smaller:\n",
    "        flag=1         \n",
    "\n",
    "print(flag)        \n"
   ]
  },
  {
   "cell_type": "code",
   "execution_count": 229,
   "id": "999c10ef-7f5b-4411-afc6-b3b93cf4a5c3",
   "metadata": {},
   "outputs": [
    {
     "name": "stdout",
     "output_type": "stream",
     "text": [
      "{'pass': 3, 'fail': 4}\n"
     ]
    }
   ],
   "source": [
    "results = {\"pass\": 0, \"fail\": 3}\n",
    "results['pass']=3\n",
    "results['fail']=results['fail']+1\n",
    "results['add']=2\n",
    "results.pop('add')\n",
    "print(results)"
   ]
  },
  {
   "cell_type": "code",
   "execution_count": 231,
   "id": "a291e6e1-118f-4026-a559-9d06f6883db3",
   "metadata": {
    "scrolled": true
   },
   "outputs": [
    {
     "name": "stdout",
     "output_type": "stream",
     "text": [
      "pass 3\n",
      "fail 4\n"
     ]
    }
   ],
   "source": [
    "for k in results:\n",
    "    print(k, results[k])"
   ]
  },
  {
   "cell_type": "code",
   "execution_count": 249,
   "id": "82ad2df1-a5d6-4d5d-aec9-79a37d5ad57f",
   "metadata": {},
   "outputs": [
    {
     "name": "stdin",
     "output_type": "stream",
     "text": [
      "Enter a string:  qqq\n",
      "Enter a string:  hhh\n",
      "Enter a string:  ggg\n",
      "Enter a string:  hhh\n",
      "Enter a string:  qqq\n",
      "Enter a string:  hhh\n",
      "Enter a string:  h\n",
      "Enter a string:  q\n"
     ]
    },
    {
     "name": "stdout",
     "output_type": "stream",
     "text": [
      "qqq occurred 2 times\n",
      "hhh occurred 3 times\n",
      "ggg occurred 1 times\n",
      "h occurred 1 times\n",
      "q occurred 1 times\n"
     ]
    }
   ],
   "source": [
    "counts = {}\n",
    "while len(counts) < 5:\n",
    "    s = input(\"Enter a string: \")\n",
    "    if s in counts:\n",
    "        counts[s] = counts[s] + 1\n",
    "    else:\n",
    "        counts[s] = 1\n",
    "for k in counts:\n",
    "    print(k, \"occurred\", counts[k], \"times\")"
   ]
  },
  {
   "cell_type": "code",
   "execution_count": 411,
   "id": "ede40956-42de-4daa-89df-4cc2f326c74b",
   "metadata": {},
   "outputs": [
    {
     "name": "stdout",
     "output_type": "stream",
     "text": [
      "9\n"
     ]
    }
   ],
   "source": [
    "#ex 145\n",
    "\n",
    "scores={\"1\":('A','E','I','L','N','O','R','S','T','U'),\n",
    "        \"2\":('D','G'),\n",
    "        \"3\":('B','C','M','P'),\n",
    "        \"4\":('F','H','V','W','Y'),\n",
    "        \"5\":('K'),\n",
    "        \"8\":('J','X'),\n",
    "        \"10\":('Q','Z')\n",
    "       }\n",
    "#print(scores)\n",
    "score=0\n",
    "word=\"ABK\"\n",
    "for c in word:\n",
    "    for i, j in scores.items():\n",
    "    #print(i,obj)\n",
    "        for car in j:\n",
    "        #print(j)\n",
    "            if car==c:\n",
    "                score=score+int(i)\n",
    "                #print(int(i))\n",
    "print(score)"
   ]
  },
  {
   "cell_type": "code",
   "execution_count": 393,
   "id": "45ddcedd-1235-487e-a80f-f49a4e18c2c3",
   "metadata": {},
   "outputs": [
    {
     "data": {
      "text/plain": [
       "11"
      ]
     },
     "execution_count": 393,
     "metadata": {},
     "output_type": "execute_result"
    }
   ],
   "source": [
    "#145\n",
    "def scrScore(word):\n",
    "    scores={\"1\":('A','E','I','L','N','O','R','S','T','U'),\n",
    "            \"2\":('D','G'),\n",
    "            \"3\":('B','C','M','P'),\n",
    "            \"4\":('F','H','V','W','Y'),\n",
    "            \"5\":('K'),\n",
    "            \"8\":('J','X'),\n",
    "            \"10\":('Q','Z')\n",
    "           }\n",
    "    score=0\n",
    "\n",
    "    for c in word:\n",
    "        for i, j in scores.items():\n",
    "    #print(i,obj)\n",
    "            for car in j:\n",
    "        #print(j)\n",
    "                if car==c:\n",
    "                    score=score+int(i)\n",
    "    return score\n",
    "\n",
    "scrScore(\"FHAD\")"
   ]
  },
  {
   "cell_type": "code",
   "execution_count": 391,
   "id": "df60b82c-e2fa-4189-a5fc-6539601d3646",
   "metadata": {},
   "outputs": [
    {
     "name": "stdout",
     "output_type": "stream",
     "text": [
      "12\n",
      "15\n",
      "name1 - Anglais grade: 12\n",
      "name2 - Anglais grade: 15\n"
     ]
    }
   ],
   "source": [
    "toto={\n",
    "    \"1\":{\n",
    "       \"name\":\"name1\",\n",
    "       \"toto\":(11,22,33),\n",
    "       \"age\":22,\n",
    "       \"grades\": {\n",
    "            \"math\":10,\n",
    "            \"info\":11,\n",
    "            \"anglais\":12\n",
    "           }\n",
    "        },\n",
    "\n",
    "    \"2\":{\n",
    "       \"name\":\"name2\",\n",
    "       \"toto\":(44,55,66),\n",
    "       \"age\":24,\n",
    "       \"grades\": {\n",
    "            \"math\":13,\n",
    "            \"info\":14,\n",
    "            \"anglais\":15\n",
    "           }\n",
    "      }\n",
    "      \n",
    "}\n",
    "#for i,j in toto.items():\n",
    "    #print(i,j)\n",
    "    #for k,l in j.items():\n",
    "        #print(k)\n",
    "        \n",
    "for value in toto.values():\n",
    "    print(value['grades']['anglais'])       \n",
    "    \n",
    "for key, value in toto.items():\n",
    "    print(f\"{value['name']} - Anglais grade: {value['grades']['anglais']}\")"
   ]
  },
  {
   "cell_type": "code",
   "execution_count": null,
   "id": "0ed18789-80f4-4114-b896-f1f41eeab9bc",
   "metadata": {},
   "outputs": [],
   "source": []
  }
 ],
 "metadata": {
  "kernelspec": {
   "display_name": "Python 3 (ipykernel)",
   "language": "python",
   "name": "python3"
  },
  "language_info": {
   "codemirror_mode": {
    "name": "ipython",
    "version": 3
   },
   "file_extension": ".py",
   "mimetype": "text/x-python",
   "name": "python",
   "nbconvert_exporter": "python",
   "pygments_lexer": "ipython3",
   "version": "3.12.4"
  }
 },
 "nbformat": 4,
 "nbformat_minor": 5
}
